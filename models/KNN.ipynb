{
  "nbformat": 4,
  "nbformat_minor": 0,
  "metadata": {
    "colab": {
      "name": "KNN.ipynb",
      "provenance": [],
      "collapsed_sections": []
    },
    "kernelspec": {
      "name": "python3",
      "display_name": "Python 3"
    },
    "language_info": {
      "name": "python"
    }
  },
  "cells": [
    {
      "cell_type": "code",
      "execution_count": 1,
      "metadata": {
        "id": "-77yTB9qrZ3j",
        "colab": {
          "base_uri": "https://localhost:8080/"
        },
        "outputId": "d4192f00-119f-4226-8c9e-f0296a6814d5"
      },
      "outputs": [
        {
          "output_type": "stream",
          "name": "stdout",
          "text": [
            "Mounted at /content/drive\n"
          ]
        }
      ],
      "source": [
        "import tensorflow as tf\n",
        "import numpy as np\n",
        "import pandas as pd\n",
        "import joblib\n",
        "import random\n",
        "\n",
        "\n",
        "# mount google drive\n",
        "from google.colab import drive\n",
        "drive.mount('/content/drive', force_remount=True)\n",
        "\n",
        "\n",
        "# sklearn\n",
        "import sklearn\n",
        "import sklearn.model_selection\n",
        "from sklearn.model_selection import KFold\n",
        "from sklearn.neighbors import KNeighborsClassifier\n",
        "from sklearn.model_selection import cross_val_score\n",
        "\n",
        "\n",
        "# custom libs\n",
        "import sys\n",
        "\n",
        "path = '/content/drive/Shareddrives/Machine Learning/'\n",
        "data_path = path + 'data/'\n",
        "KNN_path = path + 'code/KNN/'\n",
        "sys.path.append(path + 'code/')\n",
        "from load_dataframe import load_dataframe\n",
        "from confusionMatrix import plot_confusion_matrix\n"
      ]
    },
    {
      "cell_type": "code",
      "source": [
        "# set seeds\n",
        "random.seed(0)\n",
        "np.random.seed(0)"
      ],
      "metadata": {
        "id": "2JimlFgadkmo"
      },
      "execution_count": 2,
      "outputs": []
    },
    {
      "cell_type": "markdown",
      "source": [
        "#Load Dataset"
      ],
      "metadata": {
        "id": "NwKl4JG-d50Q"
      }
    },
    {
      "cell_type": "code",
      "source": [
        "df = load_dataframe( data_path + 'features.npz', data_path + 'name_class.csv')\n",
        "\n",
        "classes = df[\"class\"].unique()\n",
        "\n",
        "# Class codes\n",
        "class_code = dict( zip( df[\"class\"].astype('category').cat.categories, np.arange( 0, len( classes) ) ) )\n",
        "print( \"\\nClass encoding: \", class_code )\n",
        "\n",
        "print(df.shape)"
      ],
      "metadata": {
        "colab": {
          "base_uri": "https://localhost:8080/"
        },
        "id": "3q1h1ihj2g9P",
        "outputId": "f1ac5eab-090a-4123-e17f-215c1ea2d9c7"
      },
      "execution_count": 3,
      "outputs": [
        {
          "output_type": "stream",
          "name": "stdout",
          "text": [
            "Number of features:  1280\n",
            "Original number of examples:  19520\n",
            "Final number of examples:  18748\n",
            "\n",
            "Class encoding:  {'AD': 0, 'CN': 1, 'EMCI': 2, 'LMCI': 3}\n",
            "(18748, 1282)\n"
          ]
        }
      ]
    },
    {
      "cell_type": "code",
      "source": [
        "df.head()"
      ],
      "metadata": {
        "colab": {
          "base_uri": "https://localhost:8080/",
          "height": 300
        },
        "id": "Sfotsm4-F3ma",
        "outputId": "8bf95269-7d89-4191-af41-f34ae291d5c7"
      },
      "execution_count": 4,
      "outputs": [
        {
          "output_type": "execute_result",
          "data": {
            "text/plain": [
              "          0         1         2         3         4         5         6  \\\n",
              "0  1.110234  1.507227  0.000000  0.000000  0.118538  0.000000  0.611660   \n",
              "1  0.377716  0.804323  0.000000  0.044572  0.469181  0.000000  1.109573   \n",
              "2  1.291019  0.071864  0.177774  1.815525  0.103777  0.035584  0.019683   \n",
              "3  0.390894  0.746412  0.039011  0.298714  1.402811  0.000000  0.052603   \n",
              "4  1.896747  0.958916  0.002194  0.096892  0.260261  0.000000  0.861980   \n",
              "\n",
              "          7         8    9  ...      1272      1273  1274      1275      1276  \\\n",
              "0  0.000000  0.216659  0.0  ...  0.000000  0.582409   0.0  0.000000  0.000000   \n",
              "1  0.000000  0.427474  0.0  ...  0.018944  0.851525   0.0  0.239364  0.111541   \n",
              "2  0.000000  0.000000  0.0  ...  0.000000  0.226819   0.0  0.445593  0.652496   \n",
              "3  0.098031  0.058295  0.0  ...  0.004990  0.480598   0.0  0.000000  1.700429   \n",
              "4  0.043710  0.040442  0.0  ...  0.079554  0.058523   0.0  0.100710  0.003879   \n",
              "\n",
              "       1277      1278      1279  class  \\\n",
              "0  0.292292  0.080777  0.342733     CN   \n",
              "1  0.000000  0.363659  0.683264     CN   \n",
              "2  0.022925  0.000000  0.357433     CN   \n",
              "3  0.416542  0.039750  2.452053     CN   \n",
              "4  0.023642  0.020626  0.359759     CN   \n",
              "\n",
              "                                            img_name  \n",
              "0  ADNI_941_S_4292_MR_ADNI_gre_field_mapping_br_r...  \n",
              "1  ADNI_941_S_4292_MR_ADNI_gre_field_mapping_br_r...  \n",
              "2  ADNI_941_S_4292_MR_ADNI_gre_field_mapping_br_r...  \n",
              "3  ADNI_941_S_4292_MR_ADNI_gre_field_mapping_br_r...  \n",
              "4  ADNI_941_S_4292_MR_ADNI_gre_field_mapping_br_r...  \n",
              "\n",
              "[5 rows x 1282 columns]"
            ],
            "text/html": [
              "\n",
              "  <div id=\"df-aad26692-e736-4800-8b48-bffd16d5b897\">\n",
              "    <div class=\"colab-df-container\">\n",
              "      <div>\n",
              "<style scoped>\n",
              "    .dataframe tbody tr th:only-of-type {\n",
              "        vertical-align: middle;\n",
              "    }\n",
              "\n",
              "    .dataframe tbody tr th {\n",
              "        vertical-align: top;\n",
              "    }\n",
              "\n",
              "    .dataframe thead th {\n",
              "        text-align: right;\n",
              "    }\n",
              "</style>\n",
              "<table border=\"1\" class=\"dataframe\">\n",
              "  <thead>\n",
              "    <tr style=\"text-align: right;\">\n",
              "      <th></th>\n",
              "      <th>0</th>\n",
              "      <th>1</th>\n",
              "      <th>2</th>\n",
              "      <th>3</th>\n",
              "      <th>4</th>\n",
              "      <th>5</th>\n",
              "      <th>6</th>\n",
              "      <th>7</th>\n",
              "      <th>8</th>\n",
              "      <th>9</th>\n",
              "      <th>...</th>\n",
              "      <th>1272</th>\n",
              "      <th>1273</th>\n",
              "      <th>1274</th>\n",
              "      <th>1275</th>\n",
              "      <th>1276</th>\n",
              "      <th>1277</th>\n",
              "      <th>1278</th>\n",
              "      <th>1279</th>\n",
              "      <th>class</th>\n",
              "      <th>img_name</th>\n",
              "    </tr>\n",
              "  </thead>\n",
              "  <tbody>\n",
              "    <tr>\n",
              "      <th>0</th>\n",
              "      <td>1.110234</td>\n",
              "      <td>1.507227</td>\n",
              "      <td>0.000000</td>\n",
              "      <td>0.000000</td>\n",
              "      <td>0.118538</td>\n",
              "      <td>0.000000</td>\n",
              "      <td>0.611660</td>\n",
              "      <td>0.000000</td>\n",
              "      <td>0.216659</td>\n",
              "      <td>0.0</td>\n",
              "      <td>...</td>\n",
              "      <td>0.000000</td>\n",
              "      <td>0.582409</td>\n",
              "      <td>0.0</td>\n",
              "      <td>0.000000</td>\n",
              "      <td>0.000000</td>\n",
              "      <td>0.292292</td>\n",
              "      <td>0.080777</td>\n",
              "      <td>0.342733</td>\n",
              "      <td>CN</td>\n",
              "      <td>ADNI_941_S_4292_MR_ADNI_gre_field_mapping_br_r...</td>\n",
              "    </tr>\n",
              "    <tr>\n",
              "      <th>1</th>\n",
              "      <td>0.377716</td>\n",
              "      <td>0.804323</td>\n",
              "      <td>0.000000</td>\n",
              "      <td>0.044572</td>\n",
              "      <td>0.469181</td>\n",
              "      <td>0.000000</td>\n",
              "      <td>1.109573</td>\n",
              "      <td>0.000000</td>\n",
              "      <td>0.427474</td>\n",
              "      <td>0.0</td>\n",
              "      <td>...</td>\n",
              "      <td>0.018944</td>\n",
              "      <td>0.851525</td>\n",
              "      <td>0.0</td>\n",
              "      <td>0.239364</td>\n",
              "      <td>0.111541</td>\n",
              "      <td>0.000000</td>\n",
              "      <td>0.363659</td>\n",
              "      <td>0.683264</td>\n",
              "      <td>CN</td>\n",
              "      <td>ADNI_941_S_4292_MR_ADNI_gre_field_mapping_br_r...</td>\n",
              "    </tr>\n",
              "    <tr>\n",
              "      <th>2</th>\n",
              "      <td>1.291019</td>\n",
              "      <td>0.071864</td>\n",
              "      <td>0.177774</td>\n",
              "      <td>1.815525</td>\n",
              "      <td>0.103777</td>\n",
              "      <td>0.035584</td>\n",
              "      <td>0.019683</td>\n",
              "      <td>0.000000</td>\n",
              "      <td>0.000000</td>\n",
              "      <td>0.0</td>\n",
              "      <td>...</td>\n",
              "      <td>0.000000</td>\n",
              "      <td>0.226819</td>\n",
              "      <td>0.0</td>\n",
              "      <td>0.445593</td>\n",
              "      <td>0.652496</td>\n",
              "      <td>0.022925</td>\n",
              "      <td>0.000000</td>\n",
              "      <td>0.357433</td>\n",
              "      <td>CN</td>\n",
              "      <td>ADNI_941_S_4292_MR_ADNI_gre_field_mapping_br_r...</td>\n",
              "    </tr>\n",
              "    <tr>\n",
              "      <th>3</th>\n",
              "      <td>0.390894</td>\n",
              "      <td>0.746412</td>\n",
              "      <td>0.039011</td>\n",
              "      <td>0.298714</td>\n",
              "      <td>1.402811</td>\n",
              "      <td>0.000000</td>\n",
              "      <td>0.052603</td>\n",
              "      <td>0.098031</td>\n",
              "      <td>0.058295</td>\n",
              "      <td>0.0</td>\n",
              "      <td>...</td>\n",
              "      <td>0.004990</td>\n",
              "      <td>0.480598</td>\n",
              "      <td>0.0</td>\n",
              "      <td>0.000000</td>\n",
              "      <td>1.700429</td>\n",
              "      <td>0.416542</td>\n",
              "      <td>0.039750</td>\n",
              "      <td>2.452053</td>\n",
              "      <td>CN</td>\n",
              "      <td>ADNI_941_S_4292_MR_ADNI_gre_field_mapping_br_r...</td>\n",
              "    </tr>\n",
              "    <tr>\n",
              "      <th>4</th>\n",
              "      <td>1.896747</td>\n",
              "      <td>0.958916</td>\n",
              "      <td>0.002194</td>\n",
              "      <td>0.096892</td>\n",
              "      <td>0.260261</td>\n",
              "      <td>0.000000</td>\n",
              "      <td>0.861980</td>\n",
              "      <td>0.043710</td>\n",
              "      <td>0.040442</td>\n",
              "      <td>0.0</td>\n",
              "      <td>...</td>\n",
              "      <td>0.079554</td>\n",
              "      <td>0.058523</td>\n",
              "      <td>0.0</td>\n",
              "      <td>0.100710</td>\n",
              "      <td>0.003879</td>\n",
              "      <td>0.023642</td>\n",
              "      <td>0.020626</td>\n",
              "      <td>0.359759</td>\n",
              "      <td>CN</td>\n",
              "      <td>ADNI_941_S_4292_MR_ADNI_gre_field_mapping_br_r...</td>\n",
              "    </tr>\n",
              "  </tbody>\n",
              "</table>\n",
              "<p>5 rows × 1282 columns</p>\n",
              "</div>\n",
              "      <button class=\"colab-df-convert\" onclick=\"convertToInteractive('df-aad26692-e736-4800-8b48-bffd16d5b897')\"\n",
              "              title=\"Convert this dataframe to an interactive table.\"\n",
              "              style=\"display:none;\">\n",
              "        \n",
              "  <svg xmlns=\"http://www.w3.org/2000/svg\" height=\"24px\"viewBox=\"0 0 24 24\"\n",
              "       width=\"24px\">\n",
              "    <path d=\"M0 0h24v24H0V0z\" fill=\"none\"/>\n",
              "    <path d=\"M18.56 5.44l.94 2.06.94-2.06 2.06-.94-2.06-.94-.94-2.06-.94 2.06-2.06.94zm-11 1L8.5 8.5l.94-2.06 2.06-.94-2.06-.94L8.5 2.5l-.94 2.06-2.06.94zm10 10l.94 2.06.94-2.06 2.06-.94-2.06-.94-.94-2.06-.94 2.06-2.06.94z\"/><path d=\"M17.41 7.96l-1.37-1.37c-.4-.4-.92-.59-1.43-.59-.52 0-1.04.2-1.43.59L10.3 9.45l-7.72 7.72c-.78.78-.78 2.05 0 2.83L4 21.41c.39.39.9.59 1.41.59.51 0 1.02-.2 1.41-.59l7.78-7.78 2.81-2.81c.8-.78.8-2.07 0-2.86zM5.41 20L4 18.59l7.72-7.72 1.47 1.35L5.41 20z\"/>\n",
              "  </svg>\n",
              "      </button>\n",
              "      \n",
              "  <style>\n",
              "    .colab-df-container {\n",
              "      display:flex;\n",
              "      flex-wrap:wrap;\n",
              "      gap: 12px;\n",
              "    }\n",
              "\n",
              "    .colab-df-convert {\n",
              "      background-color: #E8F0FE;\n",
              "      border: none;\n",
              "      border-radius: 50%;\n",
              "      cursor: pointer;\n",
              "      display: none;\n",
              "      fill: #1967D2;\n",
              "      height: 32px;\n",
              "      padding: 0 0 0 0;\n",
              "      width: 32px;\n",
              "    }\n",
              "\n",
              "    .colab-df-convert:hover {\n",
              "      background-color: #E2EBFA;\n",
              "      box-shadow: 0px 1px 2px rgba(60, 64, 67, 0.3), 0px 1px 3px 1px rgba(60, 64, 67, 0.15);\n",
              "      fill: #174EA6;\n",
              "    }\n",
              "\n",
              "    [theme=dark] .colab-df-convert {\n",
              "      background-color: #3B4455;\n",
              "      fill: #D2E3FC;\n",
              "    }\n",
              "\n",
              "    [theme=dark] .colab-df-convert:hover {\n",
              "      background-color: #434B5C;\n",
              "      box-shadow: 0px 1px 3px 1px rgba(0, 0, 0, 0.15);\n",
              "      filter: drop-shadow(0px 1px 2px rgba(0, 0, 0, 0.3));\n",
              "      fill: #FFFFFF;\n",
              "    }\n",
              "  </style>\n",
              "\n",
              "      <script>\n",
              "        const buttonEl =\n",
              "          document.querySelector('#df-aad26692-e736-4800-8b48-bffd16d5b897 button.colab-df-convert');\n",
              "        buttonEl.style.display =\n",
              "          google.colab.kernel.accessAllowed ? 'block' : 'none';\n",
              "\n",
              "        async function convertToInteractive(key) {\n",
              "          const element = document.querySelector('#df-aad26692-e736-4800-8b48-bffd16d5b897');\n",
              "          const dataTable =\n",
              "            await google.colab.kernel.invokeFunction('convertToInteractive',\n",
              "                                                     [key], {});\n",
              "          if (!dataTable) return;\n",
              "\n",
              "          const docLinkHtml = 'Like what you see? Visit the ' +\n",
              "            '<a target=\"_blank\" href=https://colab.research.google.com/notebooks/data_table.ipynb>data table notebook</a>'\n",
              "            + ' to learn more about interactive tables.';\n",
              "          element.innerHTML = '';\n",
              "          dataTable['output_type'] = 'display_data';\n",
              "          await google.colab.output.renderOutput(dataTable, element);\n",
              "          const docLink = document.createElement('div');\n",
              "          docLink.innerHTML = docLinkHtml;\n",
              "          element.appendChild(docLink);\n",
              "        }\n",
              "      </script>\n",
              "    </div>\n",
              "  </div>\n",
              "  "
            ]
          },
          "metadata": {},
          "execution_count": 4
        }
      ]
    },
    {
      "cell_type": "code",
      "source": [
        "# data split\n",
        "X = df.drop( columns=[\"class\", \"img_name\"] )\n",
        "y = df[\"class\"].copy()\n",
        "\n",
        "print('X shape: ',X.shape)\n",
        "print('Y shape: ',y.shape)\n",
        "\n",
        "# treino e teste\n",
        "x_train, x_test, y_train, y_test = sklearn.model_selection.train_test_split(X, y, test_size=0.1, random_state=0)"
      ],
      "metadata": {
        "colab": {
          "base_uri": "https://localhost:8080/"
        },
        "id": "SFyUAD0F4a5W",
        "outputId": "4e117a2a-79d2-41a2-b886-721081ae977b"
      },
      "execution_count": 5,
      "outputs": [
        {
          "output_type": "stream",
          "name": "stdout",
          "text": [
            "X shape:  (18748, 1280)\n",
            "Y shape:  (18748,)\n"
          ]
        }
      ]
    },
    {
      "cell_type": "markdown",
      "source": [
        "#Training"
      ],
      "metadata": {
        "id": "772dhIbgd8q7"
      }
    },
    {
      "cell_type": "code",
      "source": [
        "nfolds = 5\n",
        "kf = KFold( n_splits=nfolds, shuffle=True, random_state=0 )\n",
        "\n",
        "ngs = [ 1,3,5,7,11 ]\n",
        "results = [ cross_val_score( KNeighborsClassifier(n_neighbors=n), x_train, y_train, cv=kf ) for n in ngs ]"
      ],
      "metadata": {
        "id": "FJOraw4Qsg3Z"
      },
      "execution_count": 6,
      "outputs": []
    },
    {
      "cell_type": "code",
      "source": [
        "# print results\n",
        "pd.options.display.float_format = \"{:,.4f}\".format\n",
        "\n",
        "results_data = [ (results[i].mean(), results[i].std()) for i in range(len(ngs) )] \n",
        "\n",
        "results_df = pd.DataFrame( data = results_data, columns = [\"mean\", \"std\"] )\n",
        "results_df.insert( 0, \"KNN\", ngs )\n",
        "\n",
        "print( results_df.to_string(index=False), \"\\n\" )\n",
        "\n",
        "# best result\n",
        "bestN = ngs[ np.argmax(results_data[:][0]) ]\n",
        "print( \"best N: \", bestN )\n",
        "\n",
        "bestKNN = sklearn.neighbors.KNeighborsClassifier(n_neighbors=bestN)\n",
        "bestKNN.fit(x_train, y_train)\n",
        "print(\"bestKNN:\", bestKNN.score(x_test, y_test))\n",
        "\n",
        "# save KNN model\n",
        "filename = KNN_path + 'KNN' + str(bestN) + '.pkl'\n",
        "joblib.dump(bestKNN, open(filename, 'wb'))"
      ],
      "metadata": {
        "colab": {
          "base_uri": "https://localhost:8080/"
        },
        "id": "6lGrrbFHG5vI",
        "outputId": "d9a4a152-1282-436f-de40-2dfcec9ff732"
      },
      "execution_count": 7,
      "outputs": [
        {
          "output_type": "stream",
          "name": "stdout",
          "text": [
            " KNN   mean    std\n",
            "   1 0.5773 0.0040\n",
            "   3 0.5345 0.0056\n",
            "   5 0.5301 0.0093\n",
            "   7 0.5209 0.0073\n",
            "  11 0.5031 0.0058 \n",
            "\n",
            "best N:  1\n",
            "bestKNN: 0.5941333333333333\n"
          ]
        }
      ]
    },
    {
      "cell_type": "markdown",
      "source": [
        "#Evaluation metrics"
      ],
      "metadata": {
        "id": "IbJk1WLEd_dd"
      }
    },
    {
      "cell_type": "code",
      "source": [
        "y_pred = bestKNN.predict(x_test)\n",
        "y_pred = pd.DataFrame(y_pred)\n",
        "y_true = pd.DataFrame(y_test)\n",
        "\n",
        "y_pred = y_pred[0].astype('category').cat.codes\n",
        "y_true = y_true[\"class\"].astype('category').cat.codes\n",
        "plot_confusion_matrix(y_true, y_pred, list(class_code.keys()))"
      ],
      "metadata": {
        "colab": {
          "base_uri": "https://localhost:8080/",
          "height": 686
        },
        "id": "OnKAur8aJUXD",
        "outputId": "f6a66d44-be0e-46a5-f75a-49658389f189"
      },
      "execution_count": 10,
      "outputs": [
        {
          "output_type": "display_data",
          "data": {
            "text/plain": [
              "<Figure size 576x576 with 2 Axes>"
            ],
            "image/png": "[encoded data removed]"
          },
          "metadata": {
            "needs_background": "light"
          }
        },
        {
          "output_type": "stream",
          "name": "stdout",
          "text": [
            "  class  Acurácia  Sensitividade  Especificidade\n",
            "0    AD    0.8677         0.5019          0.9290\n",
            "1    CN    0.7381         0.6361          0.7957\n",
            "2  EMCI    0.7440         0.6207          0.8033\n",
            "3  LMCI    0.8384         0.5327          0.9015\n"
          ]
        }
      ]
    },
    {
      "cell_type": "markdown",
      "source": [
        "#Load model"
      ],
      "metadata": {
        "id": "smP0iM50R2lo"
      }
    },
    {
      "cell_type": "code",
      "source": [
        "# best n = 1\n",
        "filename = KNN_path + 'KNN1.pkl'\n",
        "bestKNN = joblib.load(open(filename, 'rb'))"
      ],
      "metadata": {
        "id": "WSTyb5GGR4Zw"
      },
      "execution_count": 9,
      "outputs": []
    }
  ]
}