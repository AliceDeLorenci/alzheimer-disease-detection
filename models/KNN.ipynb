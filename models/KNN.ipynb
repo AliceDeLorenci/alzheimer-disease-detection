{
  "cells": [
    {
      "cell_type": "code",
      "execution_count": 3,
      "metadata": {
        "colab": {
          "base_uri": "https://localhost:8080/"
        },
        "id": "-77yTB9qrZ3j",
        "outputId": "0ca5f5a0-742b-495a-8c35-692c8cce082d"
      },
      "outputs": [],
      "source": [
        "# libraries\n",
        "import tensorflow as tf\n",
        "import numpy as np\n",
        "import pandas as pd\n",
        "import joblib\n",
        "import random\n",
        "import sys\n",
        "\n",
        "# sklearn\n",
        "import sklearn\n",
        "import sklearn.model_selection\n",
        "from sklearn.model_selection import KFold\n",
        "from sklearn.neighbors import KNeighborsClassifier\n",
        "from sklearn.model_selection import cross_val_score\n",
        "\n",
        "# custom libs\n",
        "path = '../'\n",
        "data_path = path + 'data/'\n",
        "KNN_path = path + 'models/KNN/'\n",
        "\n",
        "sys.path.append(path + 'preprocessing/')\n",
        "sys.path.append(path + 'models/')\n",
        "from load_dataframe import load_dataframe\n",
        "from confusionMatrix import plot_confusion_matrix"
      ]
    },
    {
      "cell_type": "code",
      "execution_count": 4,
      "metadata": {
        "id": "2JimlFgadkmo"
      },
      "outputs": [],
      "source": [
        "# set seeds\n",
        "random.seed(0)\n",
        "np.random.seed(0)"
      ]
    },
    {
      "cell_type": "markdown",
      "metadata": {
        "id": "NwKl4JG-d50Q"
      },
      "source": [
        "# Load Dataset"
      ]
    },
    {
      "cell_type": "code",
      "execution_count": 5,
      "metadata": {
        "colab": {
          "base_uri": "https://localhost:8080/",
          "height": 386
        },
        "id": "3q1h1ihj2g9P",
        "outputId": "95d3038c-58a7-492d-88ea-44981bfb9992"
      },
      "outputs": [
        {
          "data": {
            "text/html": [
              "<div>\n",
              "<style scoped>\n",
              "    .dataframe tbody tr th:only-of-type {\n",
              "        vertical-align: middle;\n",
              "    }\n",
              "\n",
              "    .dataframe tbody tr th {\n",
              "        vertical-align: top;\n",
              "    }\n",
              "\n",
              "    .dataframe thead th {\n",
              "        text-align: right;\n",
              "    }\n",
              "</style>\n",
              "<table border=\"1\" class=\"dataframe\">\n",
              "  <thead>\n",
              "    <tr style=\"text-align: right;\">\n",
              "      <th></th>\n",
              "      <th>0</th>\n",
              "      <th>1</th>\n",
              "      <th>2</th>\n",
              "      <th>3</th>\n",
              "      <th>4</th>\n",
              "      <th>5</th>\n",
              "      <th>6</th>\n",
              "      <th>7</th>\n",
              "      <th>8</th>\n",
              "      <th>9</th>\n",
              "      <th>...</th>\n",
              "      <th>1272</th>\n",
              "      <th>1273</th>\n",
              "      <th>1274</th>\n",
              "      <th>1275</th>\n",
              "      <th>1276</th>\n",
              "      <th>1277</th>\n",
              "      <th>1278</th>\n",
              "      <th>1279</th>\n",
              "      <th>class</th>\n",
              "      <th>img_name</th>\n",
              "    </tr>\n",
              "  </thead>\n",
              "  <tbody>\n",
              "    <tr>\n",
              "      <th>0</th>\n",
              "      <td>1.110234</td>\n",
              "      <td>1.507227</td>\n",
              "      <td>0.000000</td>\n",
              "      <td>0.000000</td>\n",
              "      <td>0.118538</td>\n",
              "      <td>0.000000</td>\n",
              "      <td>0.611660</td>\n",
              "      <td>0.000000</td>\n",
              "      <td>0.216659</td>\n",
              "      <td>0.0</td>\n",
              "      <td>...</td>\n",
              "      <td>0.000000</td>\n",
              "      <td>0.582409</td>\n",
              "      <td>0.0</td>\n",
              "      <td>0.000000</td>\n",
              "      <td>0.000000</td>\n",
              "      <td>0.292292</td>\n",
              "      <td>0.080777</td>\n",
              "      <td>0.342733</td>\n",
              "      <td>CN</td>\n",
              "      <td>ADNI_941_S_4292_MR_ADNI_gre_field_mapping_br_r...</td>\n",
              "    </tr>\n",
              "    <tr>\n",
              "      <th>1</th>\n",
              "      <td>0.377716</td>\n",
              "      <td>0.804323</td>\n",
              "      <td>0.000000</td>\n",
              "      <td>0.044572</td>\n",
              "      <td>0.469181</td>\n",
              "      <td>0.000000</td>\n",
              "      <td>1.109573</td>\n",
              "      <td>0.000000</td>\n",
              "      <td>0.427474</td>\n",
              "      <td>0.0</td>\n",
              "      <td>...</td>\n",
              "      <td>0.018944</td>\n",
              "      <td>0.851525</td>\n",
              "      <td>0.0</td>\n",
              "      <td>0.239364</td>\n",
              "      <td>0.111541</td>\n",
              "      <td>0.000000</td>\n",
              "      <td>0.363659</td>\n",
              "      <td>0.683264</td>\n",
              "      <td>CN</td>\n",
              "      <td>ADNI_941_S_4292_MR_ADNI_gre_field_mapping_br_r...</td>\n",
              "    </tr>\n",
              "    <tr>\n",
              "      <th>2</th>\n",
              "      <td>1.291019</td>\n",
              "      <td>0.071864</td>\n",
              "      <td>0.177774</td>\n",
              "      <td>1.815525</td>\n",
              "      <td>0.103777</td>\n",
              "      <td>0.035584</td>\n",
              "      <td>0.019683</td>\n",
              "      <td>0.000000</td>\n",
              "      <td>0.000000</td>\n",
              "      <td>0.0</td>\n",
              "      <td>...</td>\n",
              "      <td>0.000000</td>\n",
              "      <td>0.226819</td>\n",
              "      <td>0.0</td>\n",
              "      <td>0.445593</td>\n",
              "      <td>0.652496</td>\n",
              "      <td>0.022925</td>\n",
              "      <td>0.000000</td>\n",
              "      <td>0.357433</td>\n",
              "      <td>CN</td>\n",
              "      <td>ADNI_941_S_4292_MR_ADNI_gre_field_mapping_br_r...</td>\n",
              "    </tr>\n",
              "    <tr>\n",
              "      <th>3</th>\n",
              "      <td>0.390894</td>\n",
              "      <td>0.746412</td>\n",
              "      <td>0.039011</td>\n",
              "      <td>0.298714</td>\n",
              "      <td>1.402811</td>\n",
              "      <td>0.000000</td>\n",
              "      <td>0.052603</td>\n",
              "      <td>0.098031</td>\n",
              "      <td>0.058295</td>\n",
              "      <td>0.0</td>\n",
              "      <td>...</td>\n",
              "      <td>0.004990</td>\n",
              "      <td>0.480598</td>\n",
              "      <td>0.0</td>\n",
              "      <td>0.000000</td>\n",
              "      <td>1.700429</td>\n",
              "      <td>0.416542</td>\n",
              "      <td>0.039750</td>\n",
              "      <td>2.452053</td>\n",
              "      <td>CN</td>\n",
              "      <td>ADNI_941_S_4292_MR_ADNI_gre_field_mapping_br_r...</td>\n",
              "    </tr>\n",
              "    <tr>\n",
              "      <th>4</th>\n",
              "      <td>1.896747</td>\n",
              "      <td>0.958916</td>\n",
              "      <td>0.002194</td>\n",
              "      <td>0.096892</td>\n",
              "      <td>0.260261</td>\n",
              "      <td>0.000000</td>\n",
              "      <td>0.861980</td>\n",
              "      <td>0.043710</td>\n",
              "      <td>0.040442</td>\n",
              "      <td>0.0</td>\n",
              "      <td>...</td>\n",
              "      <td>0.079554</td>\n",
              "      <td>0.058523</td>\n",
              "      <td>0.0</td>\n",
              "      <td>0.100710</td>\n",
              "      <td>0.003879</td>\n",
              "      <td>0.023642</td>\n",
              "      <td>0.020626</td>\n",
              "      <td>0.359759</td>\n",
              "      <td>CN</td>\n",
              "      <td>ADNI_941_S_4292_MR_ADNI_gre_field_mapping_br_r...</td>\n",
              "    </tr>\n",
              "  </tbody>\n",
              "</table>\n",
              "<p>5 rows × 1282 columns</p>\n",
              "</div>"
            ],
            "text/plain": [
              "          0         1         2         3         4         5         6  \\\n",
              "0  1.110234  1.507227  0.000000  0.000000  0.118538  0.000000  0.611660   \n",
              "1  0.377716  0.804323  0.000000  0.044572  0.469181  0.000000  1.109573   \n",
              "2  1.291019  0.071864  0.177774  1.815525  0.103777  0.035584  0.019683   \n",
              "3  0.390894  0.746412  0.039011  0.298714  1.402811  0.000000  0.052603   \n",
              "4  1.896747  0.958916  0.002194  0.096892  0.260261  0.000000  0.861980   \n",
              "\n",
              "          7         8    9  ...      1272      1273  1274      1275      1276  \\\n",
              "0  0.000000  0.216659  0.0  ...  0.000000  0.582409   0.0  0.000000  0.000000   \n",
              "1  0.000000  0.427474  0.0  ...  0.018944  0.851525   0.0  0.239364  0.111541   \n",
              "2  0.000000  0.000000  0.0  ...  0.000000  0.226819   0.0  0.445593  0.652496   \n",
              "3  0.098031  0.058295  0.0  ...  0.004990  0.480598   0.0  0.000000  1.700429   \n",
              "4  0.043710  0.040442  0.0  ...  0.079554  0.058523   0.0  0.100710  0.003879   \n",
              "\n",
              "       1277      1278      1279  class  \\\n",
              "0  0.292292  0.080777  0.342733     CN   \n",
              "1  0.000000  0.363659  0.683264     CN   \n",
              "2  0.022925  0.000000  0.357433     CN   \n",
              "3  0.416542  0.039750  2.452053     CN   \n",
              "4  0.023642  0.020626  0.359759     CN   \n",
              "\n",
              "                                            img_name  \n",
              "0  ADNI_941_S_4292_MR_ADNI_gre_field_mapping_br_r...  \n",
              "1  ADNI_941_S_4292_MR_ADNI_gre_field_mapping_br_r...  \n",
              "2  ADNI_941_S_4292_MR_ADNI_gre_field_mapping_br_r...  \n",
              "3  ADNI_941_S_4292_MR_ADNI_gre_field_mapping_br_r...  \n",
              "4  ADNI_941_S_4292_MR_ADNI_gre_field_mapping_br_r...  \n",
              "\n",
              "[5 rows x 1282 columns]"
            ]
          },
          "metadata": {},
          "output_type": "display_data"
        },
        {
          "name": "stdout",
          "output_type": "stream",
          "text": [
            "Dataframe shape: (18748, 1282)\n",
            "\n",
            "Class encoding:  {'AD': 0, 'CN': 1, 'EMCI': 2, 'LMCI': 3}\n",
            "\n",
            "X shape:  (18748, 1280)\n",
            "Y shape:  (18748,)\n"
          ]
        }
      ],
      "source": [
        "# load data frame\n",
        "df = load_dataframe( data_path + 'features.npz', data_path + 'name_class.csv')\n",
        "display( df.head() )\n",
        "print(\"Dataframe shape:\", df.shape)\n",
        "\n",
        "# class encoding\n",
        "classes = df[\"class\"].unique()\n",
        "class_code = dict( zip( df[\"class\"].astype('category').cat.categories, np.arange( 0, len( classes) ) ) )\n",
        "print( \"\\nClass encoding: \", class_code )\n",
        "\n",
        "# data split\n",
        "X = df.drop( columns=[\"class\", \"img_name\"] )\n",
        "y = df[\"class\"].copy()\n",
        "\n",
        "print('\\nX shape: ',X.shape)\n",
        "print('Y shape: ',y.shape)\n",
        "\n",
        "# normalize (Z-score)\n",
        "for column in X.columns:\n",
        "    X[column] = ( X[column] - np.mean( X[column] ) )/np.std( X[column] )\n",
        "\n",
        "# train and test sets\n",
        "x_train, x_test, y_train, y_test = sklearn.model_selection.train_test_split( X, y, test_size=0.1, random_state=0 )"
      ]
    },
    {
      "cell_type": "markdown",
      "metadata": {
        "id": "772dhIbgd8q7"
      },
      "source": [
        "# Training"
      ]
    },
    {
      "cell_type": "code",
      "execution_count": null,
      "metadata": {
        "id": "FJOraw4Qsg3Z"
      },
      "outputs": [],
      "source": [
        "# define number of folds for cross validation\n",
        "nfolds = 5\n",
        "kf = KFold( n_splits=nfolds, shuffle=True, random_state=0 )\n",
        "\n",
        "# number of neighbours to be tested\n",
        "ngs = [ 1,3,5,7,11 ] \n",
        "\n",
        "# fit models\n",
        "results = [ cross_val_score( KNeighborsClassifier(n_neighbors=n), x_train, y_train, cv=kf ) for n in ngs ]"
      ]
    },
    {
      "cell_type": "code",
      "execution_count": null,
      "metadata": {
        "colab": {
          "base_uri": "https://localhost:8080/",
          "height": 241
        },
        "id": "6lGrrbFHG5vI",
        "outputId": "f9051792-48cc-4f6f-cbde-cdd04bd3454f"
      },
      "outputs": [
        {
          "data": {
            "text/html": [
              "\n",
              "  <div id=\"df-35c16a88-0231-43ba-be5e-c550cf8e79ec\">\n",
              "    <div class=\"colab-df-container\">\n",
              "      <div>\n",
              "<style scoped>\n",
              "    .dataframe tbody tr th:only-of-type {\n",
              "        vertical-align: middle;\n",
              "    }\n",
              "\n",
              "    .dataframe tbody tr th {\n",
              "        vertical-align: top;\n",
              "    }\n",
              "\n",
              "    .dataframe thead th {\n",
              "        text-align: right;\n",
              "    }\n",
              "</style>\n",
              "<table border=\"1\" class=\"dataframe\">\n",
              "  <thead>\n",
              "    <tr style=\"text-align: right;\">\n",
              "      <th></th>\n",
              "      <th>KNN</th>\n",
              "      <th>mean</th>\n",
              "      <th>std</th>\n",
              "    </tr>\n",
              "  </thead>\n",
              "  <tbody>\n",
              "    <tr>\n",
              "      <th>0</th>\n",
              "      <td>1</td>\n",
              "      <td>0.5679</td>\n",
              "      <td>0.0045</td>\n",
              "    </tr>\n",
              "    <tr>\n",
              "      <th>1</th>\n",
              "      <td>3</td>\n",
              "      <td>0.5262</td>\n",
              "      <td>0.0034</td>\n",
              "    </tr>\n",
              "    <tr>\n",
              "      <th>2</th>\n",
              "      <td>5</td>\n",
              "      <td>0.5210</td>\n",
              "      <td>0.0073</td>\n",
              "    </tr>\n",
              "    <tr>\n",
              "      <th>3</th>\n",
              "      <td>7</td>\n",
              "      <td>0.5133</td>\n",
              "      <td>0.0039</td>\n",
              "    </tr>\n",
              "    <tr>\n",
              "      <th>4</th>\n",
              "      <td>11</td>\n",
              "      <td>0.4985</td>\n",
              "      <td>0.0084</td>\n",
              "    </tr>\n",
              "  </tbody>\n",
              "</table>\n",
              "</div>\n",
              "      <button class=\"colab-df-convert\" onclick=\"convertToInteractive('df-35c16a88-0231-43ba-be5e-c550cf8e79ec')\"\n",
              "              title=\"Convert this dataframe to an interactive table.\"\n",
              "              style=\"display:none;\">\n",
              "        \n",
              "  <svg xmlns=\"http://www.w3.org/2000/svg\" height=\"24px\"viewBox=\"0 0 24 24\"\n",
              "       width=\"24px\">\n",
              "    <path d=\"M0 0h24v24H0V0z\" fill=\"none\"/>\n",
              "    <path d=\"M18.56 5.44l.94 2.06.94-2.06 2.06-.94-2.06-.94-.94-2.06-.94 2.06-2.06.94zm-11 1L8.5 8.5l.94-2.06 2.06-.94-2.06-.94L8.5 2.5l-.94 2.06-2.06.94zm10 10l.94 2.06.94-2.06 2.06-.94-2.06-.94-.94-2.06-.94 2.06-2.06.94z\"/><path d=\"M17.41 7.96l-1.37-1.37c-.4-.4-.92-.59-1.43-.59-.52 0-1.04.2-1.43.59L10.3 9.45l-7.72 7.72c-.78.78-.78 2.05 0 2.83L4 21.41c.39.39.9.59 1.41.59.51 0 1.02-.2 1.41-.59l7.78-7.78 2.81-2.81c.8-.78.8-2.07 0-2.86zM5.41 20L4 18.59l7.72-7.72 1.47 1.35L5.41 20z\"/>\n",
              "  </svg>\n",
              "      </button>\n",
              "      \n",
              "  <style>\n",
              "    .colab-df-container {\n",
              "      display:flex;\n",
              "      flex-wrap:wrap;\n",
              "      gap: 12px;\n",
              "    }\n",
              "\n",
              "    .colab-df-convert {\n",
              "      background-color: #E8F0FE;\n",
              "      border: none;\n",
              "      border-radius: 50%;\n",
              "      cursor: pointer;\n",
              "      display: none;\n",
              "      fill: #1967D2;\n",
              "      height: 32px;\n",
              "      padding: 0 0 0 0;\n",
              "      width: 32px;\n",
              "    }\n",
              "\n",
              "    .colab-df-convert:hover {\n",
              "      background-color: #E2EBFA;\n",
              "      box-shadow: 0px 1px 2px rgba(60, 64, 67, 0.3), 0px 1px 3px 1px rgba(60, 64, 67, 0.15);\n",
              "      fill: #174EA6;\n",
              "    }\n",
              "\n",
              "    [theme=dark] .colab-df-convert {\n",
              "      background-color: #3B4455;\n",
              "      fill: #D2E3FC;\n",
              "    }\n",
              "\n",
              "    [theme=dark] .colab-df-convert:hover {\n",
              "      background-color: #434B5C;\n",
              "      box-shadow: 0px 1px 3px 1px rgba(0, 0, 0, 0.15);\n",
              "      filter: drop-shadow(0px 1px 2px rgba(0, 0, 0, 0.3));\n",
              "      fill: #FFFFFF;\n",
              "    }\n",
              "  </style>\n",
              "\n",
              "      <script>\n",
              "        const buttonEl =\n",
              "          document.querySelector('#df-35c16a88-0231-43ba-be5e-c550cf8e79ec button.colab-df-convert');\n",
              "        buttonEl.style.display =\n",
              "          google.colab.kernel.accessAllowed ? 'block' : 'none';\n",
              "\n",
              "        async function convertToInteractive(key) {\n",
              "          const element = document.querySelector('#df-35c16a88-0231-43ba-be5e-c550cf8e79ec');\n",
              "          const dataTable =\n",
              "            await google.colab.kernel.invokeFunction('convertToInteractive',\n",
              "                                                     [key], {});\n",
              "          if (!dataTable) return;\n",
              "\n",
              "          const docLinkHtml = 'Like what you see? Visit the ' +\n",
              "            '<a target=\"_blank\" href=https://colab.research.google.com/notebooks/data_table.ipynb>data table notebook</a>'\n",
              "            + ' to learn more about interactive tables.';\n",
              "          element.innerHTML = '';\n",
              "          dataTable['output_type'] = 'display_data';\n",
              "          await google.colab.output.renderOutput(dataTable, element);\n",
              "          const docLink = document.createElement('div');\n",
              "          docLink.innerHTML = docLinkHtml;\n",
              "          element.appendChild(docLink);\n",
              "        }\n",
              "      </script>\n",
              "    </div>\n",
              "  </div>\n",
              "  "
            ],
            "text/plain": [
              "   KNN   mean    std\n",
              "0    1 0.5679 0.0045\n",
              "1    3 0.5262 0.0034\n",
              "2    5 0.5210 0.0073\n",
              "3    7 0.5133 0.0039\n",
              "4   11 0.4985 0.0084"
            ]
          },
          "metadata": {},
          "output_type": "display_data"
        },
        {
          "name": "stdout",
          "output_type": "stream",
          "text": [
            "Best number of neighbours:  1\n",
            "Best KNN accuracy (retrained using all training data): 0.5824\n"
          ]
        }
      ],
      "source": [
        "# print results\n",
        "pd.options.display.float_format = \"{:,.4f}\".format\n",
        "\n",
        "results_data = [ (results[i].mean(), results[i].std()) for i in range(len(ngs) )] \n",
        "\n",
        "results_df = pd.DataFrame( data = results_data, columns = [\"mean\", \"std\"] )\n",
        "results_df.insert( 0, \"KNN\", ngs )\n",
        "\n",
        "display( results_df )\n",
        "\n",
        "# best result\n",
        "bestN = ngs[ np.argmax(results_data[:][0]) ]\n",
        "print( \"Best number of neighbours: \", bestN )\n",
        "\n",
        "bestKNN = sklearn.neighbors.KNeighborsClassifier(n_neighbors=bestN)\n",
        "bestKNN.fit(x_train, y_train)\n",
        "print(\"Best KNN accuracy (retrained using all training data):\", bestKNN.score(x_test, y_test))\n",
        "\n",
        "# save KNN model\n",
        "filename = KNN_path + 'KNN' + str(bestN) + '.pkl'\n",
        "joblib.dump(bestKNN, open(filename, 'wb'))"
      ]
    },
    {
      "cell_type": "markdown",
      "metadata": {
        "id": "IbJk1WLEd_dd"
      },
      "source": [
        "# Evaluation metrics"
      ]
    },
    {
      "cell_type": "code",
      "execution_count": null,
      "metadata": {
        "colab": {
          "base_uri": "https://localhost:8080/",
          "height": 686
        },
        "id": "OnKAur8aJUXD",
        "outputId": "707a05a7-847d-4666-beb0-10a78f682043"
      },
      "outputs": [
        {
          "data": {
            "image/png": "[encoded data removed]",
            "text/plain": [
              "<Figure size 576x576 with 2 Axes>"
            ]
          },
          "metadata": {
            "needs_background": "light"
          },
          "output_type": "display_data"
        },
        {
          "name": "stdout",
          "output_type": "stream",
          "text": [
            "  class  Acurácia  Sensitividade  Especificidade\n",
            "0    AD    0.8624         0.4981          0.9234\n",
            "1    CN    0.7243         0.6331          0.7756\n",
            "2  EMCI    0.7419         0.5862          0.8167\n",
            "3  LMCI    0.8363         0.5389          0.8977\n"
          ]
        }
      ],
      "source": [
        "y_pred = bestKNN.predict(x_test)\n",
        "y_pred = pd.DataFrame(y_pred)\n",
        "y_true = pd.DataFrame(y_test)\n",
        "\n",
        "y_pred = y_pred[0].astype('category').cat.codes\n",
        "y_true = y_true[\"class\"].astype('category').cat.codes\n",
        "plot_confusion_matrix(y_true, y_pred, list(class_code.keys()))"
      ]
    },
    {
      "cell_type": "markdown",
      "metadata": {
        "id": "smP0iM50R2lo"
      },
      "source": [
        "# Load model"
      ]
    },
    {
      "cell_type": "code",
      "execution_count": null,
      "metadata": {
        "id": "WSTyb5GGR4Zw"
      },
      "outputs": [],
      "source": [
        "filename = KNN_path + 'KNN1.pkl'\n",
        "bestKNN = joblib.load(open(filename, 'rb'))"
      ]
    }
  ],
  "metadata": {
    "colab": {
      "collapsed_sections": [],
      "name": "KNN.ipynb",
      "provenance": []
    },
    "interpreter": {
      "hash": "916dbcbb3f70747c44a77c7bcd40155683ae19c65e1c03b4aa3499c5328201f1"
    },
    "kernelspec": {
      "display_name": "Python 3.8.10 64-bit",
      "language": "python",
      "name": "python3"
    },
    "language_info": {
      "codemirror_mode": {
        "name": "ipython",
        "version": 3
      },
      "file_extension": ".py",
      "mimetype": "text/x-python",
      "name": "python",
      "nbconvert_exporter": "python",
      "pygments_lexer": "ipython3",
      "version": "3.8.10"
    }
  },
  "nbformat": 4,
  "nbformat_minor": 0
}
