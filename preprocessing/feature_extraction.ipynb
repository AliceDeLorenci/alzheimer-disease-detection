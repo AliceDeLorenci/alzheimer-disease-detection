{
 "cells": [
  {
   "cell_type": "code",
   "execution_count": null,
   "metadata": {
    "id": "Y489-xQBoiIf"
   },
   "outputs": [],
   "source": [
    "# !pip install keras\n",
    "# !pip install tensorflow"
   ]
  },
  {
   "cell_type": "code",
   "execution_count": null,
   "metadata": {
    "scrolled": true
   },
   "outputs": [],
   "source": [
    "# needed libraries\n",
    "import os\n",
    "import numpy as np\n",
    "import pandas as pd\n",
    "import tensorflow as tf\n",
    "import numpy as np\n",
    "\n",
    "from tensorflow.keras.applications import MobileNetV2\n",
    "from tensorflow.keras import Model\n",
    "\n",
    "try:\n",
    "    from keras.preprocessing.image import load_img\n",
    "    from keras.preprocessing.image import img_to_array\n",
    "except:\n",
    "    from tensorflow.keras.utils import load_img\n",
    "    from tensorflow.keras.utils import img_to_array\n",
    "from keras.applications.mobilenet_v2 import preprocess_input"
   ]
  },
  {
   "cell_type": "markdown",
   "metadata": {},
   "source": [
    "# Feature extraction"
   ]
  },
  {
   "cell_type": "markdown",
   "metadata": {},
   "source": [
    "Once the ```.dcm``` images downloaded from ADNI have been pre-processed using the ```preprocessing.ipynb``` notebook, we can use a CNN pre-trained on the ImageNet dataset, available on Keras, to extract features from the images.\n",
    "\n",
    "The extracted features are available in the ```/data/``` folder:\n",
    "- ```features.csv```: features saved in ```.csv``` format\n",
    "- ```features.npz```: features saved in ```.npz``` format\n",
    "- ```name_class.csv```:  images' name and class, saved in the same order as the features\n",
    "\n",
    "These data can be imported following the model available on ```load_dataframe.ipynb```."
   ]
  },
  {
   "cell_type": "code",
   "execution_count": null,
   "metadata": {
    "colab": {
     "base_uri": "https://localhost:8080/"
    },
    "executionInfo": {
     "elapsed": 2536,
     "status": "ok",
     "timestamp": 1653744700089,
     "user": {
      "displayName": "Alice Valença De Lorenci",
      "userId": "13029990336363249926"
     },
     "user_tz": 180
    },
    "id": "jMsXF6W0vg33",
    "outputId": "0f19b1bc-396c-40d6-f850-b801f2285af5"
   },
   "outputs": [],
   "source": [
    "# define the path to the pre-processed images folder\n",
    "data_path = \"../MRI_AX/\"\n",
    "image_path = data_path + \"ADNI_PNG/\"\n",
    "\n",
    "# define the name of the files to which the extracted features will be saved\n",
    "features_file = 'features1'\n",
    "classes_file = 'classes1'"
   ]
  },
  {
   "cell_type": "code",
   "execution_count": null,
   "metadata": {
    "executionInfo": {
     "elapsed": 21368,
     "status": "ok",
     "timestamp": 1653744645366,
     "user": {
      "displayName": "Alice Valença De Lorenci",
      "userId": "13029990336363249926"
     },
     "user_tz": 180
    },
    "id": "aDFC6PddMac4"
   },
   "outputs": [],
   "source": [
    "# get image name\n",
    "import os\n",
    "imgs = np.array( os.listdir( image_path ) )\n",
    "imgs = np.c_[ imgs, np.zeros( len(imgs) ) ] # column 0: image name / column 1: -\n",
    "\n",
    "# extract image class\n",
    "imgs[:,1] = [ (name.split('_')[-1]).split('.')[0] for name in imgs[:,0] ]\n",
    "\n",
    "# save classes\n",
    "np.savetxt( data_path + classes_file + '.csv', imgs, delimiter=',', fmt=\"%s\" )"
   ]
  },
  {
   "cell_type": "code",
   "execution_count": null,
   "metadata": {
    "colab": {
     "base_uri": "https://localhost:8080/"
    },
    "executionInfo": {
     "elapsed": 2488,
     "status": "ok",
     "timestamp": 1653475009500,
     "user": {
      "displayName": "Alice Valença De Lorenci",
      "userId": "13029990336363249926"
     },
     "user_tz": 180
    },
    "id": "Vl2jzf2DygmZ",
    "outputId": "eb282648-6350-488e-f95d-d5c96dfbae9d"
   },
   "outputs": [],
   "source": [
    "# load full model\n",
    "extractor = MobileNetV2()\n",
    "\n",
    "# remove output layer\n",
    "extractor = Model(inputs=extractor.inputs, outputs=extractor.layers[-2].output)\n",
    "\n",
    "extractor.summary()"
   ]
  },
  {
   "cell_type": "code",
   "execution_count": null,
   "metadata": {
    "colab": {
     "base_uri": "https://localhost:8080/",
     "height": 87
    },
    "executionInfo": {
     "elapsed": 1721486,
     "status": "ok",
     "timestamp": 1653483675278,
     "user": {
      "displayName": "Alice Valença De Lorenci",
      "userId": "13029990336363249926"
     },
     "user_tz": 180
    },
    "id": "CWP6EYbbypeE",
    "outputId": "63a9953f-ede2-4c00-e826-c40d18b74f7c"
   },
   "outputs": [],
   "source": [
    "# build dataset for feature extraction:\n",
    "# 1. load image\n",
    "# 2. convert image to array\n",
    "# 3. preprocess input specifically for MobileNetV2\n",
    "# 4. forward propagate input image on pretrained MobileNetV2\n",
    "dataset = np.array( [ [ extractor.predict(\\\n",
    "                                          preprocess_input(\\\n",
    "                                                           img_to_array(\\\n",
    "                                                                        load_img( image_path + imgs[i,0], target_size=(224, 224) ) \\\n",
    "                                                                        ).reshape( (1, 224, 224, 3) ) ) )[0],\\\n",
    "                       print( '\\r', i, end='' ) ][0] \\\n",
    "                     for i in range( imgs.shape[0] ) ] )"
   ]
  },
  {
   "cell_type": "code",
   "execution_count": null,
   "metadata": {
    "id": "MZz57buf3w8R"
   },
   "outputs": [],
   "source": [
    "dataset.shape"
   ]
  },
  {
   "cell_type": "code",
   "execution_count": null,
   "metadata": {
    "id": "dO1OwZMz3Jji"
   },
   "outputs": [],
   "source": [
    "# save extracted features\n",
    "np.savez_compressed( data_path + features_file + '.npz', dataset )\n",
    "np.savetxt( data_path + features_file + '.csv', dataset, delimiter=',' )"
   ]
  }
 ],
 "metadata": {
  "colab": {
   "authorship_tag": "ABX9TyOz1s++FQfyn1h/Ra1x/6M+",
   "collapsed_sections": [],
   "name": "ImageNet.ipynb",
   "provenance": []
  },
  "kernelspec": {
   "display_name": "Python 3 (ipykernel)",
   "language": "python",
   "name": "python3"
  },
  "language_info": {
   "codemirror_mode": {
    "name": "ipython",
    "version": 3
   },
   "file_extension": ".py",
   "mimetype": "text/x-python",
   "name": "python",
   "nbconvert_exporter": "python",
   "pygments_lexer": "ipython3",
   "version": "3.8.10"
  }
 },
 "nbformat": 4,
 "nbformat_minor": 1
}
