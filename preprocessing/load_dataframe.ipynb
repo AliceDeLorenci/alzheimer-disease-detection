{
 "cells": [
  {
   "cell_type": "code",
   "execution_count": 9,
   "metadata": {
    "colab": {
     "base_uri": "https://localhost:8080/"
    },
    "executionInfo": {
     "elapsed": 52872,
     "status": "ok",
     "timestamp": 1654092670207,
     "user": {
      "displayName": "Alice Valença De Lorenci",
      "userId": "13029990336363249926"
     },
     "user_tz": 180
    },
    "id": "mG0fTpDT191Z",
    "outputId": "4c81ea7b-dc99-4aa8-c391-6be81cce185d"
   },
   "outputs": [],
   "source": [
    "# libraries\n",
    "import pandas as pd\n",
    "import matplotlib.pyplot as plt\n",
    "import seaborn as sb\n",
    "\n",
    "# import function from load_dataframe.py\n",
    "from load_dataframe import load_dataframe"
   ]
  },
  {
   "cell_type": "markdown",
   "metadata": {},
   "source": [
    "# Load dataframe\n",
    "\n",
    "This notebook provides an example on how to load a dataframe with the extracted features. Furthermore, a few graphs are plotted to visualize the data distribution."
   ]
  },
  {
   "cell_type": "code",
   "execution_count": 10,
   "metadata": {},
   "outputs": [
    {
     "name": "stdout",
     "output_type": "stream",
     "text": [
      "Help on function load_dataframe in module load_dataframe:\n",
      "\n",
      "load_dataframe(features_path, classes_path, classes=['AD', 'CN', 'EMCI', 'LMCI'], balance=False, ceil=3000, seed=0, verbose=False)\n",
      "    Arguments:\n",
      "    - features_path: path to .npz file with extracted features\n",
      "    - classes_path: path to .csv file with images' name and class, corresponding to the extracted features\n",
      "    - classes: which classes will be kept\n",
      "    - balance: whether to balance the dataset or not\n",
      "    - ceil: maximum number of examples desired in each class (used for balancing)\n",
      "    - seed: np.random.seed\n",
      "    - verbose: whether to print dataframe size info\n",
      "    \n",
      "    Return:\n",
      "    - df: dataframe with extracted features\n",
      "\n"
     ]
    }
   ],
   "source": [
    "help( load_dataframe )"
   ]
  },
  {
   "cell_type": "code",
   "execution_count": 16,
   "metadata": {},
   "outputs": [],
   "source": [
    "# define path to files created by \"feature_extraction.ipynb\"\n",
    "data_path = \"../data/\"\n",
    "features_path = data_path + \"features.npz\"\n",
    "classes_path = data_path + \"name_class.csv\""
   ]
  },
  {
   "cell_type": "code",
   "execution_count": 17,
   "metadata": {},
   "outputs": [
    {
     "name": "stdout",
     "output_type": "stream",
     "text": [
      "Number of features:  1280\n",
      "Original number of examples:  19520\n",
      "Final number of examples:  18748\n"
     ]
    },
    {
     "data": {
      "text/html": [
       "<div>\n",
       "<style scoped>\n",
       "    .dataframe tbody tr th:only-of-type {\n",
       "        vertical-align: middle;\n",
       "    }\n",
       "\n",
       "    .dataframe tbody tr th {\n",
       "        vertical-align: top;\n",
       "    }\n",
       "\n",
       "    .dataframe thead th {\n",
       "        text-align: right;\n",
       "    }\n",
       "</style>\n",
       "<table border=\"1\" class=\"dataframe\">\n",
       "  <thead>\n",
       "    <tr style=\"text-align: right;\">\n",
       "      <th></th>\n",
       "      <th>0</th>\n",
       "      <th>1</th>\n",
       "      <th>2</th>\n",
       "      <th>3</th>\n",
       "      <th>4</th>\n",
       "      <th>5</th>\n",
       "      <th>6</th>\n",
       "      <th>7</th>\n",
       "      <th>8</th>\n",
       "      <th>9</th>\n",
       "      <th>...</th>\n",
       "      <th>1272</th>\n",
       "      <th>1273</th>\n",
       "      <th>1274</th>\n",
       "      <th>1275</th>\n",
       "      <th>1276</th>\n",
       "      <th>1277</th>\n",
       "      <th>1278</th>\n",
       "      <th>1279</th>\n",
       "      <th>class</th>\n",
       "      <th>img_name</th>\n",
       "    </tr>\n",
       "  </thead>\n",
       "  <tbody>\n",
       "    <tr>\n",
       "      <th>0</th>\n",
       "      <td>1.110234</td>\n",
       "      <td>1.507227</td>\n",
       "      <td>0.000000</td>\n",
       "      <td>0.000000</td>\n",
       "      <td>0.118538</td>\n",
       "      <td>0.000000</td>\n",
       "      <td>0.611660</td>\n",
       "      <td>0.000000</td>\n",
       "      <td>0.216659</td>\n",
       "      <td>0.0</td>\n",
       "      <td>...</td>\n",
       "      <td>0.000000</td>\n",
       "      <td>0.582409</td>\n",
       "      <td>0.0</td>\n",
       "      <td>0.000000</td>\n",
       "      <td>0.000000</td>\n",
       "      <td>0.292292</td>\n",
       "      <td>0.080777</td>\n",
       "      <td>0.342733</td>\n",
       "      <td>CN</td>\n",
       "      <td>ADNI_941_S_4292_MR_ADNI_gre_field_mapping_br_r...</td>\n",
       "    </tr>\n",
       "    <tr>\n",
       "      <th>1</th>\n",
       "      <td>0.377716</td>\n",
       "      <td>0.804323</td>\n",
       "      <td>0.000000</td>\n",
       "      <td>0.044572</td>\n",
       "      <td>0.469181</td>\n",
       "      <td>0.000000</td>\n",
       "      <td>1.109573</td>\n",
       "      <td>0.000000</td>\n",
       "      <td>0.427474</td>\n",
       "      <td>0.0</td>\n",
       "      <td>...</td>\n",
       "      <td>0.018944</td>\n",
       "      <td>0.851525</td>\n",
       "      <td>0.0</td>\n",
       "      <td>0.239364</td>\n",
       "      <td>0.111541</td>\n",
       "      <td>0.000000</td>\n",
       "      <td>0.363659</td>\n",
       "      <td>0.683264</td>\n",
       "      <td>CN</td>\n",
       "      <td>ADNI_941_S_4292_MR_ADNI_gre_field_mapping_br_r...</td>\n",
       "    </tr>\n",
       "    <tr>\n",
       "      <th>2</th>\n",
       "      <td>1.291019</td>\n",
       "      <td>0.071864</td>\n",
       "      <td>0.177774</td>\n",
       "      <td>1.815525</td>\n",
       "      <td>0.103777</td>\n",
       "      <td>0.035584</td>\n",
       "      <td>0.019683</td>\n",
       "      <td>0.000000</td>\n",
       "      <td>0.000000</td>\n",
       "      <td>0.0</td>\n",
       "      <td>...</td>\n",
       "      <td>0.000000</td>\n",
       "      <td>0.226819</td>\n",
       "      <td>0.0</td>\n",
       "      <td>0.445593</td>\n",
       "      <td>0.652496</td>\n",
       "      <td>0.022925</td>\n",
       "      <td>0.000000</td>\n",
       "      <td>0.357433</td>\n",
       "      <td>CN</td>\n",
       "      <td>ADNI_941_S_4292_MR_ADNI_gre_field_mapping_br_r...</td>\n",
       "    </tr>\n",
       "    <tr>\n",
       "      <th>3</th>\n",
       "      <td>0.390894</td>\n",
       "      <td>0.746412</td>\n",
       "      <td>0.039011</td>\n",
       "      <td>0.298714</td>\n",
       "      <td>1.402811</td>\n",
       "      <td>0.000000</td>\n",
       "      <td>0.052603</td>\n",
       "      <td>0.098031</td>\n",
       "      <td>0.058295</td>\n",
       "      <td>0.0</td>\n",
       "      <td>...</td>\n",
       "      <td>0.004990</td>\n",
       "      <td>0.480598</td>\n",
       "      <td>0.0</td>\n",
       "      <td>0.000000</td>\n",
       "      <td>1.700429</td>\n",
       "      <td>0.416542</td>\n",
       "      <td>0.039750</td>\n",
       "      <td>2.452053</td>\n",
       "      <td>CN</td>\n",
       "      <td>ADNI_941_S_4292_MR_ADNI_gre_field_mapping_br_r...</td>\n",
       "    </tr>\n",
       "    <tr>\n",
       "      <th>4</th>\n",
       "      <td>1.896747</td>\n",
       "      <td>0.958916</td>\n",
       "      <td>0.002194</td>\n",
       "      <td>0.096892</td>\n",
       "      <td>0.260261</td>\n",
       "      <td>0.000000</td>\n",
       "      <td>0.861980</td>\n",
       "      <td>0.043710</td>\n",
       "      <td>0.040442</td>\n",
       "      <td>0.0</td>\n",
       "      <td>...</td>\n",
       "      <td>0.079554</td>\n",
       "      <td>0.058523</td>\n",
       "      <td>0.0</td>\n",
       "      <td>0.100710</td>\n",
       "      <td>0.003879</td>\n",
       "      <td>0.023642</td>\n",
       "      <td>0.020626</td>\n",
       "      <td>0.359759</td>\n",
       "      <td>CN</td>\n",
       "      <td>ADNI_941_S_4292_MR_ADNI_gre_field_mapping_br_r...</td>\n",
       "    </tr>\n",
       "  </tbody>\n",
       "</table>\n",
       "<p>5 rows × 1282 columns</p>\n",
       "</div>"
      ],
      "text/plain": [
       "          0         1         2         3         4         5         6  \\\n",
       "0  1.110234  1.507227  0.000000  0.000000  0.118538  0.000000  0.611660   \n",
       "1  0.377716  0.804323  0.000000  0.044572  0.469181  0.000000  1.109573   \n",
       "2  1.291019  0.071864  0.177774  1.815525  0.103777  0.035584  0.019683   \n",
       "3  0.390894  0.746412  0.039011  0.298714  1.402811  0.000000  0.052603   \n",
       "4  1.896747  0.958916  0.002194  0.096892  0.260261  0.000000  0.861980   \n",
       "\n",
       "          7         8    9  ...      1272      1273  1274      1275      1276  \\\n",
       "0  0.000000  0.216659  0.0  ...  0.000000  0.582409   0.0  0.000000  0.000000   \n",
       "1  0.000000  0.427474  0.0  ...  0.018944  0.851525   0.0  0.239364  0.111541   \n",
       "2  0.000000  0.000000  0.0  ...  0.000000  0.226819   0.0  0.445593  0.652496   \n",
       "3  0.098031  0.058295  0.0  ...  0.004990  0.480598   0.0  0.000000  1.700429   \n",
       "4  0.043710  0.040442  0.0  ...  0.079554  0.058523   0.0  0.100710  0.003879   \n",
       "\n",
       "       1277      1278      1279  class  \\\n",
       "0  0.292292  0.080777  0.342733     CN   \n",
       "1  0.000000  0.363659  0.683264     CN   \n",
       "2  0.022925  0.000000  0.357433     CN   \n",
       "3  0.416542  0.039750  2.452053     CN   \n",
       "4  0.023642  0.020626  0.359759     CN   \n",
       "\n",
       "                                            img_name  \n",
       "0  ADNI_941_S_4292_MR_ADNI_gre_field_mapping_br_r...  \n",
       "1  ADNI_941_S_4292_MR_ADNI_gre_field_mapping_br_r...  \n",
       "2  ADNI_941_S_4292_MR_ADNI_gre_field_mapping_br_r...  \n",
       "3  ADNI_941_S_4292_MR_ADNI_gre_field_mapping_br_r...  \n",
       "4  ADNI_941_S_4292_MR_ADNI_gre_field_mapping_br_r...  \n",
       "\n",
       "[5 rows x 1282 columns]"
      ]
     },
     "execution_count": 17,
     "metadata": {},
     "output_type": "execute_result"
    }
   ],
   "source": [
    "# load dataframe as used to train models:\n",
    "# - remove severely unbalanced MRI class\n",
    "# - do not balance remaining classes\n",
    "\n",
    "df = load_dataframe( features_path, classes_path, verbose=True )\n",
    "df.head()"
   ]
  },
  {
   "cell_type": "markdown",
   "metadata": {},
   "source": [
    "# Data distribution"
   ]
  },
  {
   "cell_type": "code",
   "execution_count": 14,
   "metadata": {},
   "outputs": [],
   "source": [
    "# plot class distribution\n",
    "def barplot( df, filename ):\n",
    "    \n",
    "    classes = df[\"class\"].unique()\n",
    "\n",
    "    sizes = []\n",
    "    for c in classes:\n",
    "        csize = len( df.loc[df[\"class\"] == c] )\n",
    "        sizes.append( csize )\n",
    "\n",
    "    fig = plt.figure()\n",
    "    ax = fig.add_axes([0,0,1,1])\n",
    "    ax.bar( classes, sizes )\n",
    "\n",
    "    sb.set_theme( style=\"darkgrid\" )\n",
    "    sb.barplot( x=classes, y=sizes, color=\"steelblue\" )\n",
    "\n",
    "    plt.xlabel(\"Classe\", fontdict = {'fontsize': 16}, labelpad=10 )\n",
    "    plt.ylabel(\"Número de dados\", fontdict = {'fontsize': 16})\n",
    "\n",
    "    plt.savefig( filename, bbox_inches=\"tight\", dpi=300 )\n",
    "    plt.show()"
   ]
  },
  {
   "cell_type": "code",
   "execution_count": 19,
   "metadata": {},
   "outputs": [
    {
     "data": {
      "image/png": "[encoded data removed]",
      "text/plain": [
       "<Figure size 432x288 with 1 Axes>"
      ]
     },
     "metadata": {},
     "output_type": "display_data"
    }
   ],
   "source": [
    "# original data distribution\n",
    "\n",
    "df = load_dataframe( features_path, classes_path, classes=['AD', 'CN', 'EMCI', 'MCI', 'LMCI'] )\n",
    "barplot( df, data_path+\"original_distribution.pdf\" )"
   ]
  },
  {
   "cell_type": "code",
   "execution_count": 20,
   "metadata": {},
   "outputs": [
    {
     "data": {
      "image/png": "[encoded data removed]",
      "text/plain": [
       "<Figure size 432x288 with 1 Axes>"
      ]
     },
     "metadata": {},
     "output_type": "display_data"
    }
   ],
   "source": [
    "# new data distribution\n",
    "\n",
    "df = load_dataframe( features_path, classes_path, classes=['AD', 'CN', 'EMCI', 'LMCI'] )\n",
    "barplot( df, data_path+\"new_distribution.pdf\" )"
   ]
  }
 ],
 "metadata": {
  "colab": {
   "authorship_tag": "ABX9TyP+/SjJeHQsxLfRVLss2Wa6",
   "collapsed_sections": [],
   "name": "LoadDataFrame.ipynb",
   "provenance": []
  },
  "kernelspec": {
   "display_name": "Python 3 (ipykernel)",
   "language": "python",
   "name": "python3"
  },
  "language_info": {
   "codemirror_mode": {
    "name": "ipython",
    "version": 3
   },
   "file_extension": ".py",
   "mimetype": "text/x-python",
   "name": "python",
   "nbconvert_exporter": "python",
   "pygments_lexer": "ipython3",
   "version": "3.8.10"
  }
 },
 "nbformat": 4,
 "nbformat_minor": 1
}
